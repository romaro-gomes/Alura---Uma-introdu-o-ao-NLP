{
 "cells": [
  {
   "cell_type": "markdown",
   "id": "aadb6d05",
   "metadata": {},
   "source": [
    "# Importando os dados no Kaggle\n",
    "\n",
    "Fonte: https://www.kaggle.com/datasets/luisfredgs/imdb-ptbr"
   ]
  },
  {
   "cell_type": "markdown",
   "id": "3237da21-4337-4464-bcb4-c68b3660fbf2",
   "metadata": {},
   "source": [
    "![coffe_com_letras](\"Sentimento/hand-number-cup-food-money-dessert-1191474-pxhere.com.jpg\")"
   ]
  },
  {
   "cell_type": "code",
   "execution_count": null,
   "id": "befdb477",
   "metadata": {
    "tags": []
   },
   "outputs": [],
   "source": [
    "import pandas as pd\n",
    "import numpy as np\n",
    "import seaborn as sns"
   ]
  },
  {
   "cell_type": "code",
   "execution_count": null,
   "id": "5992f5da",
   "metadata": {
    "tags": []
   },
   "outputs": [],
   "source": [
    "resenha = pd.read_csv(\"imdb-reviews-pt-br.csv\")"
   ]
  },
  {
   "cell_type": "code",
   "execution_count": null,
   "id": "56c61cf7",
   "metadata": {
    "tags": []
   },
   "outputs": [],
   "source": [
    "resenha.head()"
   ]
  },
  {
   "cell_type": "markdown",
   "id": "b749ce03",
   "metadata": {},
   "source": [
    "# Divindo os dados nos grupos treino e teste"
   ]
  },
  {
   "cell_type": "code",
   "execution_count": null,
   "id": "f3275dad",
   "metadata": {
    "tags": []
   },
   "outputs": [],
   "source": [
    "from sklearn.model_selection import train_test_split"
   ]
  },
  {
   "cell_type": "code",
   "execution_count": null,
   "id": "2de5a4aa-8701-4bab-a67b-5da8b88c8f29",
   "metadata": {
    "tags": []
   },
   "outputs": [],
   "source": [
    "treino, teste, classe_treino, classe_teste= train_test_split(resenha.text_pt,resenha.sentiment,random_state=123)"
   ]
  },
  {
   "cell_type": "markdown",
   "id": "a4ef5f45-d95b-47fa-b2fb-e170acac18cc",
   "metadata": {},
   "source": [
    "Treinando um Regressão Logpistica"
   ]
  },
  {
   "cell_type": "code",
   "execution_count": null,
   "id": "b681ee82-f8ca-4bf6-881b-ef352b9aad86",
   "metadata": {
    "tags": []
   },
   "outputs": [],
   "source": [
    "#from sklearn.linear_model import LogisticRegression"
   ]
  },
  {
   "cell_type": "code",
   "execution_count": null,
   "id": "942a9f28-a722-4e08-bbfb-089cd434b9da",
   "metadata": {
    "tags": []
   },
   "outputs": [],
   "source": [
    "#regressao_logistica = LogisticRegression()\n",
    "#regressao_logistica.fit(treino, classe_treino)"
   ]
  },
  {
   "cell_type": "markdown",
   "id": "8675ec97-147b-4b65-8beb-209a0c7e74b8",
   "metadata": {},
   "source": [
    "Os textos devem ser transformados em algo que possa ser entendido pelo modelo."
   ]
  },
  {
   "cell_type": "markdown",
   "id": "4ba6821d-4596-467c-a933-cff6c3ce4991",
   "metadata": {},
   "source": [
    "# Detectar o balanceamento dos dados\n",
    "\n",
    "Os datasets podem ter dados com maiores proporções de uma classe em relação a outra."
   ]
  },
  {
   "cell_type": "code",
   "execution_count": null,
   "id": "defbe997-8242-4dac-96a3-5c134221a0f1",
   "metadata": {
    "tags": []
   },
   "outputs": [],
   "source": [
    "print(resenha.sentiment.value_counts())"
   ]
  },
  {
   "cell_type": "markdown",
   "id": "f0cb82cb-1b7a-4b6f-b923-0cdf89d3c485",
   "metadata": {},
   "source": [
    "# Padronizar as variavies repostas\n",
    "\n",
    "Na literatura os sentimentos negtivos são descritos como 0 e os positivos como 1. Para deixarmos nosso modelo de acordo vamos seguir está convenção"
   ]
  },
  {
   "cell_type": "code",
   "execution_count": null,
   "id": "9930e777-58dd-41b3-822f-fbe431302f0f",
   "metadata": {
    "tags": []
   },
   "outputs": [],
   "source": [
    "classificacao = resenha[\"sentiment\"].replace([\"neg\",\"pos\"],[0,1])"
   ]
  },
  {
   "cell_type": "code",
   "execution_count": null,
   "id": "cd701ae2-4299-419f-beaf-65b36a2f361e",
   "metadata": {
    "tags": []
   },
   "outputs": [],
   "source": [
    "#classificacao\n",
    "resenha[\"classificacao\"]=classificacao"
   ]
  },
  {
   "cell_type": "code",
   "execution_count": null,
   "id": "ac8ce5de-9370-494e-9666-ee669c6d9855",
   "metadata": {
    "tags": []
   },
   "outputs": [],
   "source": [
    "resenha.head()"
   ]
  },
  {
   "cell_type": "code",
   "execution_count": null,
   "id": "a9056df1-3cf4-432b-a72f-3a49b4c36058",
   "metadata": {
    "tags": []
   },
   "outputs": [],
   "source": [
    "resenha.tail()"
   ]
  },
  {
   "cell_type": "markdown",
   "id": "0ed8b520-d52a-49a5-a7fa-813f59cc4245",
   "metadata": {},
   "source": [
    "# Criando um Bag of Words"
   ]
  },
  {
   "cell_type": "code",
   "execution_count": null,
   "id": "3ec2cf32-364b-40f7-9843-530ac21fbdb3",
   "metadata": {
    "tags": []
   },
   "outputs": [],
   "source": [
    "from sklearn.feature_extraction.text import CountVectorizer\n",
    "\n",
    "#exemplo\n",
    "texto = [\"Assisti um filme ótimo\", \"Assisti um filme ruim\"]\n",
    "\n",
    "CountVectorizer()#por padrão tudo fica minusculos\n",
    "vetorizar = CountVectorizer(lowercase=False)\n",
    "bag_of_words = vetorizar.fit_transform(texto)"
   ]
  },
  {
   "cell_type": "code",
   "execution_count": null,
   "id": "6818ee10-2985-49e3-9e95-4ee196532107",
   "metadata": {
    "tags": []
   },
   "outputs": [],
   "source": [
    "vetorizar.get_feature_names_out() \n"
   ]
  },
  {
   "cell_type": "code",
   "execution_count": null,
   "id": "9163ed27-8124-4211-8e22-60e731ff8e10",
   "metadata": {
    "tags": []
   },
   "outputs": [],
   "source": [
    "bag_of_words"
   ]
  },
  {
   "cell_type": "code",
   "execution_count": null,
   "id": "e2b7ba7d-898b-417b-a45c-be5099d58d52",
   "metadata": {
    "tags": []
   },
   "outputs": [],
   "source": [
    "# O Dataframe não suporta matriz esparsa\n",
    "#matriz= pd.DataFrame(bag_of_words,columns=vetorizar.get_feature_names_out())\n",
    "matriz_esparsa=pd.DataFrame.sparse.from_spmatrix(bag_of_words, columns=vetorizar.get_feature_names_out())"
   ]
  },
  {
   "cell_type": "code",
   "execution_count": null,
   "id": "fc4e7bfb-62b1-4e86-a084-7de3b9da9c39",
   "metadata": {
    "tags": []
   },
   "outputs": [],
   "source": [
    "matriz_esparsa"
   ]
  },
  {
   "cell_type": "markdown",
   "id": "191d7cdd-6019-468d-8347-5cd5860cba9a",
   "metadata": {},
   "source": [
    "# Dados Reais"
   ]
  },
  {
   "cell_type": "code",
   "execution_count": null,
   "id": "a3b16394-8733-4803-8b1e-00e429ca0be9",
   "metadata": {
    "tags": []
   },
   "outputs": [],
   "source": [
    "\n",
    "vetorizar = CountVectorizer(lowercase=False, max_features=50) #maz_feature limita as parece q mais aparece\n",
    "bag_of_words=vetorizar.fit_transform(resenha.text_pt)\n",
    "print(bag_of_words.shape)"
   ]
  },
  {
   "cell_type": "code",
   "execution_count": null,
   "id": "6fd9e3c1-b0e4-4fcc-bd47-2321191ef07b",
   "metadata": {
    "tags": []
   },
   "outputs": [],
   "source": [
    "from sklearn.model_selection import train_test_split\n",
    "from sklearn.linear_model import LogisticRegression\n",
    "\n",
    "treino, teste, classe_treino, classe_teste= train_test_split(bag_of_words,resenha.classificacao,random_state=123)\n",
    "\n",
    "\n",
    "regressao_logistica=LogisticRegression()\n",
    "regressao_logistica.fit(treino, classe_treino)\n",
    "acuracia = regressao_logistica.score(teste,classe_teste)\n",
    "print(acuracia)"
   ]
  },
  {
   "cell_type": "markdown",
   "id": "5b99f5d0-98a4-43a8-8611-d52335233237",
   "metadata": {},
   "source": [
    "# Função de criação e teste do modelo"
   ]
  },
  {
   "cell_type": "code",
   "execution_count": null,
   "id": "3c429b35-a222-4278-bce3-8c4747aa260e",
   "metadata": {},
   "outputs": [],
   "source": [
    "def classificar_texto(texto, coluna_referencia, coluna_classificacao):\n",
    "    \n",
    "    vetorizar = CountVectorizer(lowercase=False, max_features=50) \n",
    "    bag_of_words=vetorizar.fit_transform(texto[coluna_referencia])\n",
    "    \n",
    "    treino, teste, classe_treino, classe_teste= train_test_split(bag_of_words,texto[coluna_classificacao],random_state=123)\n",
    "\n",
    "    \n",
    "    regressao_logistica=LogisticRegression()\n",
    "    regressao_logistica.fit(treino,classe_treino)\n",
    "    acuracia = regressao_logistica.score(teste,classe_teste)\n",
    "    return print(f'A acurácio do modelo é de aproximadamente {round(acuracia,4)}')\n",
    "    "
   ]
  },
  {
   "cell_type": "code",
   "execution_count": null,
   "id": "a2225f21-357f-45c4-9fcc-3062520e5ca5",
   "metadata": {
    "tags": []
   },
   "outputs": [],
   "source": [
    "classificar_texto(resenha,'text_pt','classificacao')"
   ]
  },
  {
   "cell_type": "markdown",
   "id": "d110a66a-3212-4619-b9e6-2107659839ab",
   "metadata": {},
   "source": [
    "# Criando uma World Cloud"
   ]
  },
  {
   "cell_type": "code",
   "execution_count": null,
   "id": "7fc20bdf-9bfd-4b06-ad49-fce445c0a60f",
   "metadata": {
    "tags": []
   },
   "outputs": [],
   "source": [
    "from wordcloud import WordCloud"
   ]
  },
  {
   "cell_type": "code",
   "execution_count": null,
   "id": "8b93edfe-253a-447c-9864-210c9d00d93d",
   "metadata": {
    "tags": []
   },
   "outputs": [],
   "source": [
    "todas_palavras=' '.join([texto for texto in resenha.text_pt])\n",
    "#todas_palavras"
   ]
  },
  {
   "cell_type": "code",
   "execution_count": null,
   "id": "7a8a82d5-6cd8-473c-b4ff-5dba159b35e2",
   "metadata": {
    "tags": []
   },
   "outputs": [],
   "source": [
    "len(todas_palavras)"
   ]
  },
  {
   "cell_type": "code",
   "execution_count": null,
   "id": "9a0a5738-e386-49c0-b6f3-e74790dad89d",
   "metadata": {
    "tags": []
   },
   "outputs": [],
   "source": [
    "nuvems_de_palavras=WordCloud().generate(todas_palavras)"
   ]
  },
  {
   "cell_type": "code",
   "execution_count": null,
   "id": "7d85e810-8d40-4d18-92e0-f95736cb7f51",
   "metadata": {
    "tags": []
   },
   "outputs": [],
   "source": [
    "import matplotlib.pyplot as plt\n",
    "def ver_a_nuvem(nuvem):\n",
    "    plt.figure(figsize=(10,7))\n",
    "    plt.imshow(nuvem, interpolation='bilinear')\n",
    "    plt.axis(\"off\")\n",
    "    plt.show()\n",
    "\n",
    "#ver_a_nuvem(nuvems_de_palavras)"
   ]
  },
  {
   "cell_type": "markdown",
   "id": "25b6f82b-ed3a-4c2e-a931-833435c957ab",
   "metadata": {},
   "source": [
    "# Melhorando a Nuvem de Palavras"
   ]
  },
  {
   "cell_type": "code",
   "execution_count": null,
   "id": "83dcdd21-8174-4842-9b76-978e6afb1816",
   "metadata": {
    "tags": []
   },
   "outputs": [],
   "source": [
    "nuvem_palavras=WordCloud(width=800, height=500, max_font_size=100,collocations=False).generate(todas_palavras)\n",
    "ver_a_nuvem(nuvem_palavras)"
   ]
  },
  {
   "cell_type": "markdown",
   "id": "a3acbe6d-7060-4aed-947e-fc99fd323ccf",
   "metadata": {},
   "source": [
    "# Divindo as plavras em sentimentos positivos e negativos"
   ]
  },
  {
   "cell_type": "code",
   "execution_count": null,
   "id": "df75818a-898c-4cac-bc6e-e25081c0e0f3",
   "metadata": {
    "tags": []
   },
   "outputs": [],
   "source": [
    "resenha.query(\"classificacao == 1\")"
   ]
  },
  {
   "cell_type": "code",
   "execution_count": null,
   "id": "4b98a2bf-8ae9-4ebb-a8d9-3cb0aa764a59",
   "metadata": {
    "tags": []
   },
   "outputs": [],
   "source": [
    "def palavras_do_texto(texto,coluna_alvo='text_pt'):\n",
    "    todas_palavras=' '.join([palavras for palavras in texto[coluna_alvo]])\n",
    "    return todas_palavras\n",
    "\n",
    "def separa_sentimentos(sentimento, coluna_alvo='text_pt'):\n",
    "    palavras = resenha.query(f\"classificacao == {sentimento}\")\n",
    "    todas_palavras=' '.join([texto for texto in palavras[coluna_alvo]])\n",
    "    return todas_palavras\n",
    "    \n",
    "def criar_nuvem(todas_palavras):\n",
    "    nuvem_palavras=WordCloud(width=800, height=500, max_font_size=100,collocations=False).generate(todas_palavras)\n",
    "    ver_a_nuvem(nuvem_palavras)"
   ]
  },
  {
   "cell_type": "code",
   "execution_count": null,
   "id": "1727e048-c52d-4b02-9863-e3b27df71d0e",
   "metadata": {
    "tags": []
   },
   "outputs": [],
   "source": [
    "#Negativos\n",
    "criar_nuvem(separa_sentimentos(0))"
   ]
  },
  {
   "cell_type": "markdown",
   "id": "0f26b8b2-429e-4653-8d24-b96dba6a85c4",
   "metadata": {},
   "source": [
    "# Utilizando a biblioteca nltk"
   ]
  },
  {
   "cell_type": "code",
   "execution_count": null,
   "id": "cec37492-e014-424c-b5ec-81346d2b9a17",
   "metadata": {
    "tags": []
   },
   "outputs": [],
   "source": [
    "import nltk\n",
    "\n",
    "\n",
    "#nltk.download()"
   ]
  },
  {
   "cell_type": "code",
   "execution_count": null,
   "id": "8f58a286-9a4d-40c2-be05-c2b318d33ccb",
   "metadata": {
    "tags": []
   },
   "outputs": [],
   "source": [
    "from nltk import tokenize\n",
    "\n",
    "token_espaco = tokenize.WhitespaceTokenizer()\n",
    "token_frase= token_espaco.tokenize(todas_palavras)\n",
    "frequencia = nltk.FreqDist(token_frase)"
   ]
  },
  {
   "cell_type": "code",
   "execution_count": null,
   "id": "de241180-7d9e-4d01-b3d7-5434cb654a57",
   "metadata": {
    "tags": []
   },
   "outputs": [],
   "source": [
    "frequencia"
   ]
  },
  {
   "cell_type": "code",
   "execution_count": null,
   "id": "154465b3-69ad-4731-a78f-ebc6f860f1f1",
   "metadata": {
    "tags": []
   },
   "outputs": [],
   "source": [
    "df_frequencia=pd.DataFrame({\"Palavra\":list(frequencia.keys()),\"Frequencia\":list(frequencia.values())})\n",
    "df_frequencia"
   ]
  },
  {
   "cell_type": "code",
   "execution_count": null,
   "id": "b3b3bd6b-5929-47f6-ba6b-a04f5bcfb8a6",
   "metadata": {
    "tags": []
   },
   "outputs": [],
   "source": [
    "df_top_10_palavras=df_frequencia.nlargest(n=10,columns='Frequencia')\n",
    "df_top_10_palavras"
   ]
  },
  {
   "cell_type": "markdown",
   "id": "b4b1e1bd-448a-41fc-959e-4a987d4fe8eb",
   "metadata": {},
   "source": [
    "# Gráfico de Pareto"
   ]
  },
  {
   "cell_type": "code",
   "execution_count": null,
   "id": "d0a7553c-5944-4656-94b5-91c629d3304e",
   "metadata": {
    "tags": []
   },
   "outputs": [],
   "source": [
    "import seaborn as sns\n",
    "\n",
    "plt.figure(figsize=(12,8))\n",
    "ax=sns.barplot(data= df_top_10_palavras, x=\"Palavra\", y=\"Frequencia\", color=\"green\")\n",
    "ax.set(ylabel=\"Contagem de Palavras\")\n",
    "plt.show()"
   ]
  },
  {
   "cell_type": "code",
   "execution_count": null,
   "id": "9e6722ff-2dac-4c55-a317-f0507bd2c3de",
   "metadata": {
    "tags": []
   },
   "outputs": [],
   "source": [
    "def grafico_de_pareto(palavras, quantidade=10):\n",
    "    token_espaco = tokenize.WhitespaceTokenizer()\n",
    "    token_frase= token_espaco.tokenize(palavras)\n",
    "    frequencia = nltk.FreqDist(token_frase)\n",
    "    \n",
    "    df_frequencia=pd.DataFrame({\"Palavra\":list(frequencia.keys()),\"Frequencia\":list(frequencia.values())})\n",
    "    df_palavras_mais_frequentes=df_frequencia.nlargest(n=quantidade,columns='Frequencia')\n",
    "    \n",
    "    #########################################################################\n",
    "    #Codigo adpatdo do aluno João\n",
    "    total = df_palavras_mais_frequentes['Frequencia'].sum()\n",
    "    df_palavras_mais_frequentes['Porcentagem'] = df_palavras_mais_frequentes['Frequencia'].cumsum() / total * 100\n",
    "    \n",
    "    ###############################################################################\n",
    "    plt.figure(figsize=(12,8))\n",
    "    ax=sns.barplot(data= df_palavras_mais_frequentes, x=\"Palavra\", y=\"Frequencia\", color=\"green\")\n",
    "    ax.set(ylabel=\"Contagem de Palavras\")\n",
    "    ##########################################################################\n",
    "    ax2 = ax.twinx()\n",
    "    sns.lineplot(data=df_palavras_mais_frequentes, x='Palavra', y='Porcentagem', color='purple', sort=False, ax=ax2,)\n",
    "    ############################################################################\n",
    "    plt.show()\n",
    "    \n",
    "\n",
    "    \n",
    "    \n"
   ]
  },
  {
   "cell_type": "code",
   "execution_count": null,
   "id": "eeac7df4-5afd-4fdd-8d2f-4129a93b4312",
   "metadata": {
    "tags": []
   },
   "outputs": [],
   "source": [
    "grafico_de_pareto(separa_sentimentos(0),20)"
   ]
  },
  {
   "cell_type": "code",
   "execution_count": null,
   "id": "7d473a53-9bfc-4624-868d-441d3b767b49",
   "metadata": {
    "tags": []
   },
   "outputs": [],
   "source": [
    "grafico_de_pareto(separa_sentimentos(1),20)"
   ]
  },
  {
   "cell_type": "code",
   "execution_count": null,
   "id": "64d1edfa-3fcf-4f38-8f51-7112b0b0487a",
   "metadata": {
    "tags": []
   },
   "outputs": [],
   "source": [
    "grafico_de_pareto(palavras_do_texto(resenha,'text_pt'))"
   ]
  },
  {
   "cell_type": "markdown",
   "id": "74d244aa-88e7-4e51-b556-89527ee77dda",
   "metadata": {},
   "source": [
    "# Stop Words ou plavras que não importam para o algoritmo"
   ]
  },
  {
   "cell_type": "code",
   "execution_count": null,
   "id": "fa5bde44-d7a3-4651-9233-c33e71b2cb64",
   "metadata": {
    "tags": []
   },
   "outputs": [],
   "source": [
    "palavras_irrelevantes=nltk.corpus.stopwords.words('portuguese')"
   ]
  },
  {
   "cell_type": "code",
   "execution_count": null,
   "id": "1dd41a83-d66d-4726-af62-dda7d5e0343f",
   "metadata": {
    "tags": []
   },
   "outputs": [],
   "source": [
    "palavras_irrelevantes"
   ]
  },
  {
   "cell_type": "code",
   "execution_count": null,
   "id": "612796cd-d35d-4f62-88d8-7496e557bb9b",
   "metadata": {
    "tags": []
   },
   "outputs": [],
   "source": [
    "frase_processada= list()\n",
    "for opiniao in resenha.text_pt:\n",
    "    nova_frase = list()\n",
    "    palavra_texto=token_espaco.tokenize(opiniao)\n",
    "    for palavra in palavra_texto:\n",
    "        if palavra not in palavras_irrelevantes:\n",
    "            nova_frase.append(palavra)\n",
    "    frase_processada.append(' '.join(nova_frase))\n",
    "        \n",
    "resenha[\"tratamento_1\"] =frase_processada"
   ]
  },
  {
   "cell_type": "code",
   "execution_count": null,
   "id": "30c16021-a79b-4450-9420-99d4338528a6",
   "metadata": {
    "tags": []
   },
   "outputs": [],
   "source": [
    "resenha.head()"
   ]
  },
  {
   "cell_type": "markdown",
   "id": "8258ac31-d55d-49c9-a08f-02a9105f600b",
   "metadata": {},
   "source": [
    "# Classificar a nova coluna sem as stop words"
   ]
  },
  {
   "cell_type": "code",
   "execution_count": null,
   "id": "2188419a-d66a-4665-934c-bdc83386863e",
   "metadata": {
    "tags": []
   },
   "outputs": [],
   "source": [
    "classificar_texto(resenha,\"tratamento_1\",\"classificacao\")"
   ]
  },
  {
   "cell_type": "code",
   "execution_count": null,
   "id": "c856995a-87cb-4a51-8a8b-b7c93d97f6bc",
   "metadata": {
    "tags": []
   },
   "outputs": [],
   "source": [
    "criar_nuvem(palavras_do_texto(resenha,\"tratamento_1\"))"
   ]
  },
  {
   "cell_type": "code",
   "execution_count": null,
   "id": "b2b7a834-b501-46b2-b923-6bb0d2d0224d",
   "metadata": {
    "tags": []
   },
   "outputs": [],
   "source": [
    "grafico_de_pareto(palavras_do_texto(resenha,\"tratamento_1\"))"
   ]
  },
  {
   "cell_type": "markdown",
   "id": "20a1458c-a434-4cf4-9aaf-a3dfb8227342",
   "metadata": {},
   "source": [
    "# Remover Pontuação"
   ]
  },
  {
   "cell_type": "code",
   "execution_count": null,
   "id": "d3fb4bde-80b5-4c44-ae33-9606bc64ecbf",
   "metadata": {
    "tags": []
   },
   "outputs": [],
   "source": [
    "from nltk import tokenize\n",
    "\n",
    "frase= \"Olá Mundo!\"\n",
    "token_pontuacao = tokenize.WordPunctTokenizer()\n",
    "token_frase=token_pontuacao.tokenize(frase)\n",
    "print(token_frase)"
   ]
  },
  {
   "cell_type": "code",
   "execution_count": null,
   "id": "2ca43b89-3683-411b-836a-c95a69725763",
   "metadata": {
    "tags": []
   },
   "outputs": [],
   "source": [
    "from string import punctuation\n",
    "\n"
   ]
  },
  {
   "cell_type": "code",
   "execution_count": null,
   "id": "0d410c48-b3d7-415c-987f-1f07a8218555",
   "metadata": {
    "tags": []
   },
   "outputs": [],
   "source": [
    "punctuation"
   ]
  },
  {
   "cell_type": "code",
   "execution_count": null,
   "id": "461526da-763a-43a7-a02b-e6ce8ddc9382",
   "metadata": {
    "tags": []
   },
   "outputs": [],
   "source": [
    "pontuacao = list()\n",
    "for ponto in punctuation:\n",
    "    pontuacao.append(ponto)\n",
    "    \n",
    "pontuacao_stopwords = pontuacao + palavras_irrelevantes"
   ]
  },
  {
   "cell_type": "code",
   "execution_count": null,
   "id": "7df9d34d-7a2f-44a7-af00-658998793e2d",
   "metadata": {
    "tags": []
   },
   "outputs": [],
   "source": [
    "frase_processada=list()\n",
    "\n",
    "for opiniao in resenha[\"tratamento_1\"]:\n",
    "    nova_frase= list()\n",
    "    palavras_texto = token_pontuacao.tokenize(opiniao)\n",
    "    for palavra in palavras_texto:\n",
    "        if palavra not in pontuacao_stopwords:\n",
    "            nova_frase.append(palavra)\n",
    "    frase_processada.append(' '.join(nova_frase))\n",
    "\n",
    "resenha['tratamento_2']=frase_processada"
   ]
  },
  {
   "cell_type": "code",
   "execution_count": null,
   "id": "e0589c24-72af-48d9-8954-499b69c7c47a",
   "metadata": {
    "tags": []
   },
   "outputs": [],
   "source": [
    "resenha.head()"
   ]
  },
  {
   "cell_type": "code",
   "execution_count": null,
   "id": "336c1fe0-27f1-41e2-b587-b21fe4116bd2",
   "metadata": {
    "tags": []
   },
   "outputs": [],
   "source": [
    "resenha['tratamento_1'][0]"
   ]
  },
  {
   "cell_type": "code",
   "execution_count": null,
   "id": "868a9d55-9d51-4241-91db-5e2ed72e97de",
   "metadata": {
    "tags": []
   },
   "outputs": [],
   "source": [
    "resenha['tratamento_2'][0]"
   ]
  },
  {
   "cell_type": "code",
   "execution_count": null,
   "id": "ea11fc37-f0ca-4e6f-9e73-517bb6cc572a",
   "metadata": {
    "tags": []
   },
   "outputs": [],
   "source": [
    "grafico_de_pareto(palavras_do_texto(resenha,'tratamento_2'),20)"
   ]
  },
  {
   "cell_type": "markdown",
   "id": "08869b2d-9018-461b-a04c-c8b5a3820237",
   "metadata": {},
   "source": [
    "# Normaliação das palavras"
   ]
  },
  {
   "cell_type": "code",
   "execution_count": null,
   "id": "a1bd4f32-adbb-404c-bcc8-c14f85cd4643",
   "metadata": {
    "tags": []
   },
   "outputs": [],
   "source": [
    "# tirando acentos\n",
    "\n",
    "import unidecode\n",
    "\n",
    "#acentos =\"ótimo péssimo não é tão\"\n",
    "\n",
    "#teste = unidecode.unidecode(acentos)\n",
    "#print(teste)"
   ]
  },
  {
   "cell_type": "code",
   "execution_count": null,
   "id": "212446ec-a7f4-437b-b447-7ca3696ace6c",
   "metadata": {
    "tags": []
   },
   "outputs": [],
   "source": [
    "sem_acentos = [unidecode.unidecode(texto) for texto in resenha[\"tratamento_2\"]]"
   ]
  },
  {
   "cell_type": "code",
   "execution_count": null,
   "id": "db4d3b23-12ec-44c4-b02c-20f6e0259217",
   "metadata": {
    "tags": []
   },
   "outputs": [],
   "source": [
    "sem_acentos[0]"
   ]
  },
  {
   "cell_type": "code",
   "execution_count": null,
   "id": "5eadd292-5bf8-49aa-87d4-87bafbcc04ae",
   "metadata": {
    "tags": []
   },
   "outputs": [],
   "source": [
    "stopwords_sem_acento= [unidecode.unidecode(texto) for texto in pontuacao_stopwords]"
   ]
  },
  {
   "cell_type": "code",
   "execution_count": null,
   "id": "137766e6-0700-4c9a-bbc0-5385b6280ffa",
   "metadata": {
    "tags": []
   },
   "outputs": [],
   "source": [
    "resenha['tratamento_3'] = sem_acentos\n",
    "\n",
    "frase_processada=list()\n",
    "\n",
    "for opiniao in resenha[\"tratamento_3\"]:\n",
    "    nova_frase= list()\n",
    "    palavras_texto = token_pontuacao.tokenize(opiniao)\n",
    "    for palavra in palavras_texto:\n",
    "        if palavra not in stopwords_sem_acento:\n",
    "            nova_frase.append(palavra)\n",
    "    frase_processada.append(' '.join(nova_frase))\n",
    "\n",
    "resenha['tratamento_3'] = frase_processada"
   ]
  },
  {
   "cell_type": "code",
   "execution_count": null,
   "id": "ec0cc717-0e08-42ea-ae56-48d5b39c2585",
   "metadata": {
    "tags": []
   },
   "outputs": [],
   "source": [
    "resenha.head()"
   ]
  },
  {
   "cell_type": "code",
   "execution_count": null,
   "id": "51267566-cec7-4d48-bb77-b23d8dd3ca8c",
   "metadata": {
    "tags": []
   },
   "outputs": [],
   "source": [
    "acuraria_tratamento3= classificar_texto(resenha,'tratamento_3', 'classificacao')"
   ]
  },
  {
   "cell_type": "code",
   "execution_count": null,
   "id": "8fa06d76-221d-4e8a-be0d-14639dea8546",
   "metadata": {
    "tags": []
   },
   "outputs": [],
   "source": [
    "criar_nuvem(palavras_do_texto(resenha,\"tratamento_3\"))"
   ]
  },
  {
   "cell_type": "code",
   "execution_count": null,
   "id": "a7bd0e65-cf03-4e8f-9d26-5de123054fc8",
   "metadata": {
    "tags": []
   },
   "outputs": [],
   "source": [
    "criar_nuvem(separa_sentimentos(0,\"tratamento_3\"))"
   ]
  },
  {
   "cell_type": "code",
   "execution_count": null,
   "id": "6479df75-8f92-4b5f-925d-d6a25c1f0246",
   "metadata": {
    "tags": []
   },
   "outputs": [],
   "source": [
    "criar_nuvem(separa_sentimentos(1,\"tratamento_3\"))"
   ]
  },
  {
   "cell_type": "code",
   "execution_count": null,
   "id": "c9fe67bc-36b4-4565-b587-bfc5cb31e7aa",
   "metadata": {
    "tags": []
   },
   "outputs": [],
   "source": [
    "grafico_de_pareto(palavras_do_texto(resenha,'tratamento_3'),10)"
   ]
  },
  {
   "cell_type": "code",
   "execution_count": null,
   "id": "4369cd22-242c-427d-90b2-0eeda0009a30",
   "metadata": {
    "tags": []
   },
   "outputs": [],
   "source": [
    "grafico_de_pareto(separa_sentimentos(0,'tratamento_3'),10)"
   ]
  },
  {
   "cell_type": "code",
   "execution_count": null,
   "id": "8434f9cc-6762-4824-9564-b92d3fb3dbe2",
   "metadata": {
    "tags": []
   },
   "outputs": [],
   "source": [
    "grafico_de_pareto(separa_sentimentos(1,'tratamento_3'),10)"
   ]
  },
  {
   "cell_type": "markdown",
   "id": "4a14d0e7-b3c5-4a2e-94c6-d5b74b8086d9",
   "metadata": {},
   "source": [
    "# Tornas as palavras minusculas"
   ]
  },
  {
   "cell_type": "code",
   "execution_count": null,
   "id": "4e05971f-46af-4a29-9d29-2ba30289fec8",
   "metadata": {
    "tags": []
   },
   "outputs": [],
   "source": [
    "frase_processada=list()\n",
    "\n",
    "for opiniao in resenha[\"tratamento_3\"]:\n",
    "    nova_frase= list()\n",
    "    opiniao=opiniao.lower()\n",
    "    palavras_texto = token_pontuacao.tokenize(opiniao)\n",
    "    for palavra in palavras_texto:\n",
    "        if palavra not in stopwords_sem_acento:\n",
    "            nova_frase.append(palavra)\n",
    "    frase_processada.append(' '.join(nova_frase))\n",
    "\n",
    "resenha['tratamento_4'] = frase_processada"
   ]
  },
  {
   "cell_type": "code",
   "execution_count": null,
   "id": "c847114d-01a3-4bda-8103-ba08f1434d04",
   "metadata": {
    "tags": []
   },
   "outputs": [],
   "source": [
    "acuraria_tratamento4= classificar_texto(resenha,'tratamento_4', 'classificacao')"
   ]
  },
  {
   "cell_type": "code",
   "execution_count": null,
   "id": "04f61ced-3f08-4fbc-ac26-855f6936627b",
   "metadata": {
    "tags": []
   },
   "outputs": [],
   "source": [
    "criar_nuvem(palavras_do_texto(resenha,\"tratamento_4\"))"
   ]
  },
  {
   "cell_type": "code",
   "execution_count": null,
   "id": "c4758d52-0b7f-48f3-bd0e-679d57a003df",
   "metadata": {
    "tags": []
   },
   "outputs": [],
   "source": [
    "grafico_de_pareto(palavras_do_texto(resenha,'tratamento_4'),10)"
   ]
  },
  {
   "cell_type": "code",
   "execution_count": null,
   "id": "64c14304-fc46-49ce-a005-8dccd666d6bf",
   "metadata": {
    "tags": []
   },
   "outputs": [],
   "source": [
    "criar_nuvem(separa_sentimentos(0,\"tratamento_4\"))"
   ]
  },
  {
   "cell_type": "code",
   "execution_count": null,
   "id": "df710e94-7bbd-4b97-a926-7599bd8abc98",
   "metadata": {
    "tags": []
   },
   "outputs": [],
   "source": [
    "grafico_de_pareto(separa_sentimentos(0,'tratamento_4'),10)"
   ]
  },
  {
   "cell_type": "code",
   "execution_count": null,
   "id": "b61c45cb-6550-4dfd-9d0c-d740ecad75c8",
   "metadata": {
    "tags": []
   },
   "outputs": [],
   "source": [
    "criar_nuvem(separa_sentimentos(1,\"tratamento_4\"))"
   ]
  },
  {
   "cell_type": "code",
   "execution_count": null,
   "id": "dc034ee7-b54c-4f7c-9a5c-4cd2f78b1686",
   "metadata": {
    "tags": []
   },
   "outputs": [],
   "source": [
    "grafico_de_pareto(separa_sentimentos(1,'tratamento_4'),10)"
   ]
  },
  {
   "cell_type": "markdown",
   "id": "f101fd40-0e27-4569-8d66-ad4956d67e32",
   "metadata": {},
   "source": [
    "# Stemmização, utilizando RSLP (Removedor de Sufixo da Lingua Portuguesa)"
   ]
  },
  {
   "cell_type": "code",
   "execution_count": null,
   "id": "061c8e21-9748-45d0-873a-56d95b18cc9e",
   "metadata": {
    "tags": []
   },
   "outputs": [],
   "source": [
    "stemmer=nltk.RSLPStemmer()"
   ]
  },
  {
   "cell_type": "code",
   "execution_count": null,
   "id": "6c6b6aaf-8749-46ad-a57d-19aa7ef9f24b",
   "metadata": {
    "tags": []
   },
   "outputs": [],
   "source": [
    "stemmer.stem('corredor')"
   ]
  },
  {
   "cell_type": "code",
   "execution_count": null,
   "id": "c89ff7bd-4cb9-425f-a314-b1c9f3cb8578",
   "metadata": {
    "tags": []
   },
   "outputs": [],
   "source": [
    "frase_processada=list()\n",
    "\n",
    "for opiniao in resenha[\"tratamento_4\"]:\n",
    "    nova_frase= list()\n",
    "    palavras_texto = token_pontuacao.tokenize(opiniao)\n",
    "    for palavra in palavras_texto:\n",
    "        if palavra not in stopwords_sem_acento:\n",
    "            nova_frase.append(stemmer.stem(palavra))\n",
    "    frase_processada.append(' '.join(nova_frase))\n",
    "\n",
    "resenha['tratamento_5'] = frase_processada"
   ]
  },
  {
   "cell_type": "code",
   "execution_count": null,
   "id": "0db31bfc-a3bd-43a7-aa08-8a2dc08278fc",
   "metadata": {
    "tags": []
   },
   "outputs": [],
   "source": [
    "acuraria_tratamento5= classificar_texto(resenha,'tratamento_5', 'classificacao')"
   ]
  },
  {
   "cell_type": "code",
   "execution_count": null,
   "id": "f72db9e9-a4d8-4f73-ac70-cdf40421a246",
   "metadata": {
    "tags": []
   },
   "outputs": [],
   "source": [
    "def plotar(tratamento):\n",
    "    criar_nuvem(palavras_do_texto(resenha,tratamento))\n",
    "    grafico_de_pareto(palavras_do_texto(resenha,tratamento),10)\n",
    "    criar_nuvem(separa_sentimentos(0,tratamento))\n",
    "    grafico_de_pareto(separa_sentimentos(0,tratamento),10)\n",
    "    criar_nuvem(separa_sentimentos(1,tratamento))\n",
    "    grafico_de_pareto(separa_sentimentos(1,tratamento),10)\n",
    "    \n",
    "    \n",
    "    "
   ]
  },
  {
   "cell_type": "code",
   "execution_count": null,
   "id": "2bdc0d52-93c6-4151-9776-3bb05a51159b",
   "metadata": {
    "tags": []
   },
   "outputs": [],
   "source": [
    "plotar('tratamento_5')"
   ]
  },
  {
   "cell_type": "markdown",
   "id": "14330450-193e-4244-8ab9-15964afb0388",
   "metadata": {},
   "source": [
    "# TF e IDF.\n",
    "\n",
    "TF mede a frequencia da palavra e IDF é o valor inverso dessa frequencia.\n",
    "\n",
    "É uma forma e normalização que ajuda a diferenciar palavras importantes para classificar um texto."
   ]
  },
  {
   "cell_type": "code",
   "execution_count": null,
   "id": "d3f4e962-0b8b-4cca-bc76-00a675669929",
   "metadata": {
    "tags": []
   },
   "outputs": [],
   "source": [
    "from sklearn.feature_extraction.text import TfidfVectorizer\n",
    "\n",
    "frases = [\"Assisti um filme ótimo\", \"Assisti um filme péssimo\"]\n",
    "\n",
    "tfidf = TfidfVectorizer(lowercase=False, max_features=50)\n",
    "\n",
    "caracteristicas = tfidf.fit_transform(frases)\n",
    "\n",
    "pd.DataFrame(\n",
    "    caracteristicas.todense(), #trasforma umamatrix esparsa em uma matrix convencional\n",
    "    columns=tfidf.get_feature_names_out()\n",
    "\n",
    ")"
   ]
  },
  {
   "cell_type": "code",
   "execution_count": null,
   "id": "542a6dcf-5448-41fe-8be6-e857eef61936",
   "metadata": {
    "tags": []
   },
   "outputs": [],
   "source": [
    "tfidf_bruto=tfidf.fit_transform(resenha.text_pt)\n",
    "tfidf_tratamento5=tfidf.fit_transform(resenha.tratamento_5)"
   ]
  },
  {
   "cell_type": "code",
   "execution_count": null,
   "id": "19169b6b-4ed0-4275-ac99-2105db4776d3",
   "metadata": {
    "tags": []
   },
   "outputs": [],
   "source": [
    "treino, teste, classe_treino, classe_teste= train_test_split(tfidf_bruto,resenha[\"classificacao\"],random_state=123)\n",
    "\n",
    "regressao_logistica=LogisticRegression()\n",
    "regressao_logistica.fit(treino,classe_treino)\n",
    "acuracia = regressao_logistica.score(teste,classe_teste)\n",
    "print(f'A acurácio do modelo é de aproximadamente {round(acuracia,4)}')"
   ]
  },
  {
   "cell_type": "code",
   "execution_count": null,
   "id": "40b99bcb-314a-42d9-97bf-104333b3eb53",
   "metadata": {
    "tags": []
   },
   "outputs": [],
   "source": [
    "treino, teste, classe_treino, classe_teste= train_test_split(tfidf_tratamento5,resenha[\"classificacao\"],random_state=123)\n",
    "\n",
    "regressao_logistica=LogisticRegression()\n",
    "regressao_logistica.fit(treino,classe_treino)\n",
    "acuracia = regressao_logistica.score(teste,classe_teste)\n",
    "print(f'A acurácio do modelo é de aproximadamente {round(acuracia,4)}')"
   ]
  },
  {
   "cell_type": "markdown",
   "id": "551275e7-c547-4034-a35e-3cd83dce4f74",
   "metadata": {},
   "source": [
    "# Analise de n-grams"
   ]
  },
  {
   "cell_type": "code",
   "execution_count": null,
   "id": "26a52222-cd58-41df-835a-7d7eeab15ed5",
   "metadata": {
    "tags": []
   },
   "outputs": [],
   "source": [
    "from nltk import ngrams\n",
    "\n",
    "frase = \"Assisti um ótimo filme\"\n",
    "frase_separada=token_espaco.tokenize(frase)\n",
    "pares = ngrams(frase_separada, 2)\n",
    "list(pares)"
   ]
  },
  {
   "cell_type": "code",
   "execution_count": null,
   "id": "6e625b02-1661-4bff-8440-92e9f03a18c2",
   "metadata": {
    "tags": []
   },
   "outputs": [],
   "source": [
    "tfidf = TfidfVectorizer(lowercase=False, ngram_range = (1,2))\n",
    "vetor_tfidf = tfidf.fit_transform(resenha[\"tratamento_5\"])\n",
    "treino, teste, classe_treino, classe_teste = train_test_split(vetor_tfidf, resenha[\"classificacao\"], random_state = 123)\n",
    "regressao_logistica.fit(treino, classe_treino)\n",
    "acuracia_tfidf_ngrams = regressao_logistica.score(teste, classe_teste)\n",
    "print(acuracia_tfidf_ngrams)"
   ]
  },
  {
   "cell_type": "code",
   "execution_count": null,
   "id": "365f6fd4-2a47-4b89-b787-53938e431022",
   "metadata": {
    "tags": []
   },
   "outputs": [],
   "source": [
    "tfidf = TfidfVectorizer(lowercase=False)\n",
    "vetor_tfidf = tfidf.fit_transform(resenha[\"tratamento_5\"])\n",
    "treino, teste, classe_treino, classe_teste = train_test_split(vetor_tfidf, resenha[\"classificacao\"], random_state = 123)\n",
    "regressao_logistica.fit(treino, classe_treino)\n",
    "acuracia_tfidf = regressao_logistica.score(teste, classe_teste)\n",
    "print(acuracia_tfidf)"
   ]
  },
  {
   "cell_type": "code",
   "execution_count": null,
   "id": "85152b69-965d-4b4e-b742-10fa252a3b66",
   "metadata": {
    "tags": []
   },
   "outputs": [],
   "source": [
    "pesos=pd.DataFrame(\n",
    "    regressao_logistica.coef_[0].T,\n",
    "    index= tfidf.get_feature_names_out()\n",
    ")\n",
    "\n"
   ]
  },
  {
   "cell_type": "code",
   "execution_count": null,
   "id": "acf6bf82-2278-4543-8fb5-f81412e1cda3",
   "metadata": {
    "tags": []
   },
   "outputs": [],
   "source": [
    "pesos.nlargest(10,0)"
   ]
  },
  {
   "cell_type": "code",
   "execution_count": null,
   "id": "53d3eb85-0523-41ad-af6a-11627621fc2c",
   "metadata": {
    "tags": []
   },
   "outputs": [],
   "source": [
    "pesos.nsmallest(50,0)"
   ]
  },
  {
   "cell_type": "markdown",
   "id": "3fcbf91f-e242-4aa1-9c9e-2baf965fb5a8",
   "metadata": {},
   "source": [
    "# Conclusão\n",
    "\n",
    "Através desse curso da Alura aprendi a utilizar bibliotecas como NLTK, unidecode, wordcloud e string para lidar com informações textuais. \n",
    "\n",
    "Além disso, com o uso do sklearn formos capazes de criar um modelo capaz de classificar resenhas com uma acurácia de 88%.\n",
    "\n",
    "Os modelos de NLP são uma ferramenta importante no auxílio de tomadas de decisão a partir de dados não estruturados\n",
    "\n",
    "Estes tipos de modelos, além de serem uteis em campanhas de marketing e recomendações, pode ser adaptado para estudos em econômica e de medicina. Auxiliando a entender o sentimento do mercado e da equipe médica sobre um determinado paciente.\n",
    "\n"
   ]
  }
 ],
 "metadata": {
  "kernelspec": {
   "display_name": "nlp",
   "language": "python",
   "name": "nlp"
  },
  "language_info": {
   "codemirror_mode": {
    "name": "ipython",
    "version": 3
   },
   "file_extension": ".py",
   "mimetype": "text/x-python",
   "name": "python",
   "nbconvert_exporter": "python",
   "pygments_lexer": "ipython3",
   "version": "3.10.6"
  }
 },
 "nbformat": 4,
 "nbformat_minor": 5
}
